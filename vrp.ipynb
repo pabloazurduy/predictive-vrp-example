{
 "cells": [
  {
   "cell_type": "code",
   "execution_count": 1,
   "metadata": {},
   "outputs": [],
   "source": [
    "import mip\n",
    "import itertools\n",
    "import random\n",
    "import pandas as pd\n",
    "\n",
    "from scipy.spatial import distance_matrix\n",
    "from copy import deepcopy\n",
    "import networkx as nx\n",
    "import matplotlib.pyplot as plt\n",
    "import numpy as np"
   ]
  },
  {
   "cell_type": "code",
   "execution_count": 47,
   "metadata": {},
   "outputs": [],
   "source": [
    "class VRPInstance(object):\n",
    "    def __init__(self, nodes=[], nodes_pos = {}, trucks = [],origin = {}, cost_matrix =  None ): # TODO add miga_and_bloqued\n",
    "        \"\"\" create an empty instance\n",
    "        \"\"\"\n",
    "        self.trucks = trucks\n",
    "        self.origin = origin\n",
    "        self.cost_matrix =  cost_matrix # this could be part of the edges attributes of self.graph\n",
    "\n",
    "        # graph \n",
    "        G = nx.Graph() \n",
    "        G.add_nodes_from(nodes)\n",
    "        for node_id,pos in nodes_pos.items():\n",
    "            G.nodes[node_id]['pos'] = (pos[0],pos[1])\n",
    "\n",
    "        self.graph = G\n",
    "\n",
    "    @classmethod \n",
    "    def generate_random_xy_instance(cls, n_nodes = 15, n_trucks=2, starting_nodes='default'):\n",
    "        \"\"\"[summary]\n",
    "\n",
    "        Args:\n",
    "            n_nodes (int, optional): [description]. Defaults to 15.\n",
    "            n_trucks (int, optional): [description]. Defaults to 2.\n",
    "            starting_nodes (str, optional): [description]. Defaults to 'default'.\n",
    "\n",
    "        Returns:\n",
    "            [type]: [description]\n",
    "        \"\"\"        \n",
    "        # set seed \n",
    "        random.seed(31415)             \n",
    "        nodes = list(range(n_nodes))  \n",
    "        nodes_pos = {}\n",
    "        nodes_pos_list  = []\n",
    "        for node_id in nodes:\n",
    "            x = random.uniform(0, 200)\n",
    "            y = random.uniform(0, 200)\n",
    "            nodes_pos[node_id] = (x,y) \n",
    "            nodes_pos_list.append([x,y])\n",
    "            \n",
    "        cost_matrix = distance_matrix(nodes_pos_list, nodes_pos_list)\n",
    "        \n",
    "        nodes = list(range(cost_matrix.shape[0]))\n",
    "        trucks = list(range(n_trucks))\n",
    "        if starting_nodes == 'default':\n",
    "            origin = {}\n",
    "            for k in trucks:\n",
    "                origin[k]=k\n",
    "        elif type(starting_nodes) == dict:\n",
    "            origin = deepcopy(starting_nodes)\n",
    "            \n",
    "        return cls(nodes = nodes, \n",
    "                   nodes_pos = nodes_pos, \n",
    "                   trucks = trucks,\n",
    "                   origin = origin,\n",
    "                   cost_matrix=cost_matrix)\n",
    "    @property\n",
    "    def nodes(self):\n",
    "        return list(self.graph.nodes)\n",
    "    \n",
    "    def cost(self, i,j,k):\n",
    "        if j != self.origin[k]:\n",
    "            return self.cost_matrix[i][j]\n",
    "        else:\n",
    "            return 0 # no cost for return to origin \n",
    "\n",
    "\n",
    "    @classmethod\n",
    "    def generate_random_distance_instance(cls, n_nodes, n_trucks):\n",
    "        # TODO\n",
    "        raise NotImplementedError('builder not yet implemented')\n",
    "        #cost_matrix  = np.random.rand(45,45) # matriz tiempo o distancia\n",
    "        #cost_matrix =  cost_matrix + cost_matrix.T  - 2*np.diag(cost_matrix.diagonal())\n",
    "    \n",
    "    def plot_instance(self):\n",
    "        G = self.graph\n",
    "        pos=nx.get_node_attributes(G,'pos')\n",
    "        nx.draw(G, pos=pos, with_labels = True)\n",
    "    \n",
    "    def plot_solution(self, x, y, file_name='graph.png'):\n",
    "        \"\"\" \n",
    "        plot the solution \n",
    "\n",
    "        Args:\n",
    "            x ([dict]): dict with solution {x[(i,j,k)] : mip.Var, ... }\n",
    "        \"\"\"         \n",
    "        \n",
    "        G = deepcopy(self.graph)\n",
    "        G.add_edges_from([(key[0], key[1]) for key in x.keys() if x[key].x == 1]) \n",
    "        pos = nx.get_node_attributes(G,'pos')\n",
    "        diccionario_camiones = dict([key for key in y.keys() if y[key].x==1])\n",
    "        node_color = self.nodes\n",
    "        for key in diccionario_camiones.keys():\n",
    "            node_color[key] = diccionario_camiones[key]\n",
    "        \n",
    "        max_color = np.max(node_color) + 1\n",
    "        labels = {nodo:nodo for nodo in self.nodes}\n",
    "        origen = self.origin\n",
    "        for k in origen.keys():\n",
    "            labels[origen[k]] = str(labels[origen[k]])+'*'\n",
    "        # save plot\n",
    "        if len(node_color) != len(pos):\n",
    "            node_color = []\n",
    "        f = plt.figure()\n",
    "        nx.draw(G, pos=pos, labels=labels,\n",
    "                node_color = node_color, cmap=plt.cm.spring,\n",
    "                with_labels = True, ax=f.add_subplot(111))\n",
    "        \n",
    "        \"\"\"\n",
    "        for key,var in x.items():\n",
    "            print('x',key, var.x)\n",
    "    \n",
    "        for key,var in y.items():\n",
    "            print('y',key, var.x)\n",
    "        \"\"\"\n",
    "        values = {}\n",
    "        for k in self.trucks:\n",
    "            df_x = [key for key in x.keys() if x[key].x == 1]\n",
    "            df_x = pd.DataFrame(df_x, columns=['i','j','k'])\n",
    "            df_x = df_x.query(f'k=={k}')\n",
    "            if df_x.shape[0] > 0:\n",
    "                print(df_x)\n",
    "                values[k] = [df_x.iloc[0][['i','j']].values[0]]\n",
    "                index = values[k][-1]\n",
    "                counter = 0\n",
    "                while counter < df_x.shape[0]-1:\n",
    "                    values[k] += [df_x.query(f'j=={index}')['j'].values]\n",
    "                    index = values[k][-1]\n",
    "                    counter += 1\n",
    "\n",
    "        for k in self.trucks:\n",
    "            \n",
    "            print('total nodes served by {0} = {1}'.format(k, len(values[k])))\n",
    "        for k in self.trucks:\n",
    "            print('node_list = {}'.format(values[k]))"
   ]
  },
  {
   "cell_type": "code",
   "execution_count": 48,
   "metadata": {},
   "outputs": [],
   "source": [
    "def find_optimal_solution(vrp_instance, objective_function = 'min_distance'):\n",
    "    nodes = vrp_instance.nodes\n",
    "    trucks = vrp_instance.trucks\n",
    "    origin = vrp_instance.origin\n",
    "\n",
    "    # model\n",
    "    model = mip.Model(name =  'vrp')\n",
    "    # ========================== #\n",
    "    # ==== var declaration ===== #\n",
    "    # ========================== #\n",
    "\n",
    "    x = {}\n",
    "    for i,j,k in itertools.product(nodes,nodes,trucks):\n",
    "        # declarate path variables \n",
    "        if i != j : \n",
    "            x[(i,j,k)] = model.add_var(var_type = mip.BINARY , \n",
    "                                    name = f'path_{i}_{j}_{k}')\n",
    "\n",
    "    y = {}    \n",
    "    for i,k in itertools.product(nodes,trucks):\n",
    "        # declarate path variables \n",
    "        y[(i,k)] = model.add_var(var_type = mip.CONTINUOUS , \n",
    "                                name = f'asignation_{i}_{k}')\n",
    "\n",
    "    u = {} # path length variable \n",
    "    for i,k in itertools.product(nodes,trucks):\n",
    "        u[(i,k)] = model.add_var(var_type = mip.INTEGER , \n",
    "                                name = f'order_{i}_{k}')\n",
    "\n",
    "    # ======================== #\n",
    "    # ===== constraints ====== #\n",
    "    # ======================== #\n",
    "    \n",
    "        \n",
    "    # 0. flow emerging from origin\n",
    "    for k in trucks:\n",
    "        model.add_constr(mip.xsum([x[(origin[k],j,k)] for j in nodes if j!= origin[k]]) <= 1, name=f'origin_out_cod_{k}' ) \n",
    "\n",
    "    # 1. flow conservation\n",
    "    for i,k in itertools.product(nodes,trucks):\n",
    "        if i != origin[k]:            \n",
    "            model.add_constr(mip.xsum([x[(j,i,k)] for j in nodes if j!=i ]) == # lo que entra\n",
    "                            mip.xsum([x[(i,j,k)] for j in nodes if j!=i ]) , # lo que sale\n",
    "                            name = f'flow_conservation_{i}_{k}' )           \n",
    "        \n",
    "    # 2. y codification \n",
    "    for i,k in itertools.product(nodes,trucks):\n",
    "        #model.add_constr(y[(i,k)] == mip.xsum([x[(i,j,k)] for j in nodes if j!=i]) , name=f'y[{i}{k}]_cod') \n",
    "        model.add_constr(y[(i,k)] == mip.xsum([x[(j,i,k)] for j in nodes if j!=i]) , name=f'y[{i}{k}]_cod')  \n",
    "    \n",
    "    # 3. demand fulfillment\n",
    "    for i in nodes:\n",
    "        if i not in origin.values(): # is not an origin node\n",
    "            model.add_constr(mip.xsum([ y[(i,k)] for k in trucks]) == 1 , name=f'y[{i}{k}]_cod') \n",
    "    \n",
    "    # 4. subtour elimination \n",
    "    graph_len = len(nodes)\n",
    "    for k in trucks:\n",
    "        for i,j in itertools.product(nodes,nodes):\n",
    "            if i != j and (i != origin[k] and j!= origin[k]): # remove origin \n",
    "                model.add_constr(u[(i,k)] - u[(j,k)] + 1  <= graph_len*(1- x[(i,j,k)]) , name=f'subtour_constraint_{i}_{j}_{k}')\n",
    "        \n",
    "        model.add_constr(u[(origin[k],k)] == 1 , name=f'subtour_constraint_origin_{k}')\n",
    "        \n",
    "        for i in nodes:\n",
    "            if i != origin[k] :\n",
    "                model.add_constr(u[(i,k)] >=2  , name=f'subtour_constraint_lowerbound_{i}')\n",
    "                model.add_constr(u[(i,k)] <= graph_len -1, name=f'subtour_constraint_upperbound_{i}')\n",
    "                \n",
    "\n",
    "    # ============================ #\n",
    "    # ==== model declaration ===== #\n",
    "    # ============================ #\n",
    "\n",
    "    # objective function\n",
    "    if objective_function == 'min_distance':\n",
    "        model.objective = mip.xsum([x[key]*vrp_instance.cost(key[0],key[1], key[2]) for key in x.keys()])\n",
    "\n",
    "    elif objective_function == 'lowest_pos':\n",
    "        model.objective = mip.xsum([u[key] for key in u.keys()])\n",
    "    \n",
    "    if objective_function == 'min_dist_max_len':\n",
    "        for key in u.keys():\n",
    "            model.add_constr(u[key] <= int(graph_len/len(trucks) *1.15) +1  , name='max_len')\n",
    "        model.objective = mip.xsum([x[key]*vrp_instance.cost(key[0],key[1], key[2]) for key in x.keys()])\n",
    "    \n",
    "    model.sens = mip.MINIMIZE\n",
    "\n",
    "    # model tunning\n",
    "    # cuts\n",
    "    # -1  automatic, 0 disables completely, \n",
    "    # 1 (default) generates cutting planes in a moderate way,\n",
    "    # 2 generates cutting planes aggressively  \n",
    "    # 3 generates even more cutting planes\n",
    "    model.cuts = 2 \n",
    "    model.max_mip_gap = 0.005 # 0.5%\n",
    "    model.max_seconds = 15*60 \n",
    "    model.optimize()\n",
    "        \n",
    "    return x, y, u, model"
   ]
  },
  {
   "cell_type": "code",
   "execution_count": 49,
   "metadata": {},
   "outputs": [
    {
     "name": "stdout",
     "output_type": "stream",
     "text": [
      "    i   j  k\n",
      "0   1  11  1\n",
      "3   8   1  1\n",
      "6  11   8  1\n",
      "    i   j  k\n",
      "1   3  10  3\n",
      "5  10  13  3\n",
      "7  12  14  3\n",
      "8  13  12  3\n",
      "9  14   3  3\n",
      "   i  j  k\n",
      "2  4  9  4\n",
      "4  9  4  4\n"
     ]
    },
    {
     "ename": "KeyError",
     "evalue": "0",
     "output_type": "error",
     "traceback": [
      "\u001b[0;31m---------------------------------------------------------------------------\u001b[0m",
      "\u001b[0;31mKeyError\u001b[0m                                  Traceback (most recent call last)",
      "\u001b[0;32m<ipython-input-49-cd63a2c52b36>\u001b[0m in \u001b[0;36m<module>\u001b[0;34m\u001b[0m\n\u001b[1;32m      4\u001b[0m \u001b[0;34m\u001b[0m\u001b[0m\n\u001b[1;32m      5\u001b[0m \u001b[0mx\u001b[0m\u001b[0;34m,\u001b[0m \u001b[0my\u001b[0m\u001b[0;34m,\u001b[0m \u001b[0mu\u001b[0m\u001b[0;34m,\u001b[0m \u001b[0mmodel\u001b[0m  \u001b[0;34m=\u001b[0m \u001b[0mfind_optimal_solution\u001b[0m\u001b[0;34m(\u001b[0m\u001b[0mvrp_instance\u001b[0m\u001b[0;34m,\u001b[0m \u001b[0mobjective_function\u001b[0m\u001b[0;34m=\u001b[0m\u001b[0;34m'min_distance'\u001b[0m\u001b[0;34m)\u001b[0m\u001b[0;34m\u001b[0m\u001b[0;34m\u001b[0m\u001b[0m\n\u001b[0;32m----> 6\u001b[0;31m \u001b[0mvrp_instance\u001b[0m\u001b[0;34m.\u001b[0m\u001b[0mplot_solution\u001b[0m\u001b[0;34m(\u001b[0m\u001b[0mx\u001b[0m\u001b[0;34m,\u001b[0m \u001b[0my\u001b[0m\u001b[0;34m,\u001b[0m \u001b[0mfile_name\u001b[0m \u001b[0;34m=\u001b[0m \u001b[0;34m'min_distance.png'\u001b[0m\u001b[0;34m)\u001b[0m\u001b[0;34m\u001b[0m\u001b[0;34m\u001b[0m\u001b[0m\n\u001b[0m",
      "\u001b[0;32m<ipython-input-47-ab66067edb62>\u001b[0m in \u001b[0;36mplot_solution\u001b[0;34m(self, x, y, file_name)\u001b[0m\n\u001b[1;32m    129\u001b[0m \u001b[0;34m\u001b[0m\u001b[0m\n\u001b[1;32m    130\u001b[0m         \u001b[0;32mfor\u001b[0m \u001b[0mk\u001b[0m \u001b[0;32min\u001b[0m \u001b[0mself\u001b[0m\u001b[0;34m.\u001b[0m\u001b[0mtrucks\u001b[0m\u001b[0;34m:\u001b[0m\u001b[0;34m\u001b[0m\u001b[0;34m\u001b[0m\u001b[0m\n\u001b[0;32m--> 131\u001b[0;31m             \u001b[0mprint\u001b[0m\u001b[0;34m(\u001b[0m\u001b[0;34m'total nodes served by {0} = {1}'\u001b[0m\u001b[0;34m.\u001b[0m\u001b[0mformat\u001b[0m\u001b[0;34m(\u001b[0m\u001b[0mk\u001b[0m\u001b[0;34m,\u001b[0m \u001b[0mlen\u001b[0m\u001b[0;34m(\u001b[0m\u001b[0mvalues\u001b[0m\u001b[0;34m[\u001b[0m\u001b[0mk\u001b[0m\u001b[0;34m]\u001b[0m\u001b[0;34m)\u001b[0m\u001b[0;34m)\u001b[0m\u001b[0;34m)\u001b[0m\u001b[0;34m\u001b[0m\u001b[0;34m\u001b[0m\u001b[0m\n\u001b[0m\u001b[1;32m    132\u001b[0m         \u001b[0;32mfor\u001b[0m \u001b[0mk\u001b[0m \u001b[0;32min\u001b[0m \u001b[0mself\u001b[0m\u001b[0;34m.\u001b[0m\u001b[0mtrucks\u001b[0m\u001b[0;34m:\u001b[0m\u001b[0;34m\u001b[0m\u001b[0;34m\u001b[0m\u001b[0m\n\u001b[1;32m    133\u001b[0m             \u001b[0mprint\u001b[0m\u001b[0;34m(\u001b[0m\u001b[0;34m'node_list = {}'\u001b[0m\u001b[0;34m.\u001b[0m\u001b[0mformat\u001b[0m\u001b[0;34m(\u001b[0m\u001b[0mvalues\u001b[0m\u001b[0;34m[\u001b[0m\u001b[0mk\u001b[0m\u001b[0;34m]\u001b[0m\u001b[0;34m)\u001b[0m\u001b[0;34m)\u001b[0m\u001b[0;34m\u001b[0m\u001b[0;34m\u001b[0m\u001b[0m\n",
      "\u001b[0;31mKeyError\u001b[0m: 0"
     ]
    },
    {
     "data": {
      "image/png": "[encoded data removed]",
      "text/plain": [
       "<Figure size 432x288 with 1 Axes>"
      ]
     },
     "metadata": {},
     "output_type": "display_data"
    }
   ],
   "source": [
    "vrp_instance = VRPInstance.generate_random_xy_instance(n_nodes = 15, \n",
    "                                                       n_trucks=8, \n",
    "                                                       starting_nodes='default')\n",
    "\n",
    "x, y, u, model  = find_optimal_solution(vrp_instance, objective_function='min_distance')\n",
    "vrp_instance.plot_solution(x, y, file_name = 'min_distance.png')"
   ]
  },
  {
   "cell_type": "code",
   "execution_count": 42,
   "metadata": {},
   "outputs": [
    {
     "name": "stdout",
     "output_type": "stream",
     "text": [
      "     i   j  k\n",
      "0    0   2  0\n",
      "2    2   5  0\n",
      "5    5  12  0\n",
      "12  12  14  0\n",
      "14  14   0  0\n",
      "     i   j  k\n",
      "1    1  11  1\n",
      "3    3   6  1\n",
      "4    4   9  1\n",
      "6    6  10  1\n",
      "7    7   1  1\n",
      "8    8   4  1\n",
      "9    9   3  1\n",
      "10  10  13  1\n",
      "11  11   8  1\n",
      "13  13   7  1\n",
      "total nodes served by 0 = 5\n",
      "total nodes served by 1 = 10\n",
      "node_list = [0, 2, 5, 12, 14]\n",
      "node_list = [1, 11, 8, 4, 9, 3, 6, 10, 13, 7]\n",
      "CPU times: user 3.38 s, sys: 748 ms, total: 4.13 s\n",
      "Wall time: 4 s\n"
     ]
    },
    {
     "data": {
      "image/png": "[encoded data removed]",
      "text/plain": [
       "<Figure size 432x288 with 1 Axes>"
      ]
     },
     "metadata": {},
     "output_type": "display_data"
    }
   ],
   "source": [
    "%%time\n",
    "# generate a instance \n",
    "vrp_instance = VRPInstance.generate_random_xy_instance(n_nodes = 15, \n",
    "                                                       n_trucks=2, \n",
    "                                                       starting_nodes='default')\n",
    "\n",
    "x, y, u, model  = find_optimal_solution(vrp_instance, objective_function='min_distance')\n",
    "vrp_instance.plot_solution(x, y, file_name = 'min_distance.png')\n"
   ]
  },
  {
   "cell_type": "code",
   "execution_count": 43,
   "metadata": {},
   "outputs": [
    {
     "name": "stdout",
     "output_type": "stream",
     "text": [
      "     i   j  k\n",
      "0    0   4  0\n",
      "3    3   6  0\n",
      "4    4   9  0\n",
      "6    6  10  0\n",
      "7    7   0  0\n",
      "9    9   3  0\n",
      "10  10  13  0\n",
      "13  13   7  0\n",
      "     i   j  k\n",
      "1    1  11  1\n",
      "8    8   1  1\n",
      "11  11   8  1\n",
      "     i   j  k\n",
      "2    2   5  2\n",
      "5    5  12  2\n",
      "12  12  14  2\n",
      "14  14   2  2\n",
      "total nodes served by 0 = 8\n",
      "total nodes served by 1 = 3\n",
      "total nodes served by 2 = 4\n",
      "node_list = [0, 4, 9, 3, 6, 10, 13, 7]\n",
      "node_list = [1, 11, 8]\n",
      "node_list = [2, 5, 12, 14]\n",
      "CPU times: user 3.25 s, sys: 266 ms, total: 3.52 s\n",
      "Wall time: 3.42 s\n"
     ]
    },
    {
     "data": {
      "image/png": "[encoded data removed]",
      "text/plain": [
       "<Figure size 432x288 with 1 Axes>"
      ]
     },
     "metadata": {},
     "output_type": "display_data"
    }
   ],
   "source": [
    "%%time\n",
    "# generate a instance \n",
    "vrp_instance = VRPInstance.generate_random_xy_instance(n_nodes = 15, \n",
    "                                                       n_trucks=3, \n",
    "                                                       starting_nodes='default')\n",
    "\n",
    "x, y, u, model  = find_optimal_solution(vrp_instance, objective_function='min_distance')\n",
    "vrp_instance.plot_solution(x, y, file_name = 'min_distance.png')\n"
   ]
  },
  {
   "cell_type": "code",
   "execution_count": 44,
   "metadata": {},
   "outputs": [
    {
     "name": "stdout",
     "output_type": "stream",
     "text": [
      "   i  j  k\n",
      "0  0  4  0\n",
      "4  4  9  0\n",
      "9  9  0  0\n",
      "     i   j  k\n",
      "1    1  11  1\n",
      "8    8   1  1\n",
      "11  11   8  1\n",
      "     i   j  k\n",
      "2    2   5  2\n",
      "5    5  12  2\n",
      "12  12  14  2\n",
      "14  14   2  2\n",
      "     i   j  k\n",
      "3    3   6  3\n",
      "6    6  10  3\n",
      "7    7   3  3\n",
      "10  10  13  3\n",
      "13  13   7  3\n",
      "total nodes served by 0 = 3\n",
      "total nodes served by 1 = 3\n",
      "total nodes served by 2 = 4\n",
      "total nodes served by 3 = 5\n",
      "node_list = [0, 4, 9]\n",
      "node_list = [1, 11, 8]\n",
      "node_list = [2, 5, 12, 14]\n",
      "node_list = [3, 6, 10, 13, 7]\n"
     ]
    },
    {
     "data": {
      "image/png": "[encoded data removed]",
      "text/plain": [
       "<Figure size 432x288 with 1 Axes>"
      ]
     },
     "metadata": {},
     "output_type": "display_data"
    }
   ],
   "source": [
    "vrp_instance = VRPInstance.generate_random_xy_instance(n_nodes = 15, \n",
    "                                                       n_trucks=4, \n",
    "                                                       starting_nodes='default')\n",
    "\n",
    "x, y, u, model  = find_optimal_solution(vrp_instance, objective_function='min_distance')\n",
    "vrp_instance.plot_solution(x, y, file_name = 'min_distance.png')"
   ]
  },
  {
   "cell_type": "code",
   "execution_count": null,
   "metadata": {},
   "outputs": [],
   "source": []
  },
  {
   "cell_type": "code",
   "execution_count": null,
   "metadata": {},
   "outputs": [],
   "source": []
  },
  {
   "cell_type": "code",
   "execution_count": null,
   "metadata": {},
   "outputs": [],
   "source": []
  },
  {
   "cell_type": "code",
   "execution_count": 24,
   "metadata": {},
   "outputs": [
    {
     "name": "stdout",
     "output_type": "stream",
     "text": [
      "total nodes served by 0 = 0.0\n",
      "total nodes served by 1 = 0.0\n",
      "total nodes served by 2 = 3.0\n",
      "total nodes served by 3 = 7.0\n",
      "node_list = []\n",
      "node_list = []\n",
      "node_list = [2, 4, 6]\n",
      "node_list = [0, 1, 3, 5, 7, 8, 9]\n"
     ]
    },
    {
     "data": {
      "image/png": "[encoded data removed]",
      "text/plain": [
       "<Figure size 432x288 with 1 Axes>"
      ]
     },
     "metadata": {
      "needs_background": "light"
     },
     "output_type": "display_data"
    },
    {
     "data": {
      "image/png": "[encoded data removed]",
      "text/plain": [
       "<Figure size 432x288 with 1 Axes>"
      ]
     },
     "metadata": {},
     "output_type": "display_data"
    }
   ],
   "source": [
    "# generate a instance \n",
    "vrp_instance = VRPInstance.generate_random_xy_instance(n_nodes = 10, \n",
    "                                                       n_trucks=4, \n",
    "                                                       starting_nodes='default')\n",
    "\n",
    "plt.imshow(vrp_instance.cost_matrix, cmap=plt.cm.Blues,)\n",
    "\n",
    "#%%time\n",
    "\n",
    "x, y, u,  = find_optimal_solution(vrp_instance, objective_function='min_distance')\n",
    "vrp_instance.plot_solution(x, y, file_name = 'min_distance.png')\n",
    "[k for k in x.keys() if x[k].x==1]"
   ]
  },
  {
   "cell_type": "code",
   "execution_count": 25,
   "metadata": {},
   "outputs": [
    {
     "name": "stdout",
     "output_type": "stream",
     "text": [
      "total nodes served by 0 = 0.0\n",
      "total nodes served by 1 = 0.0\n",
      "total nodes served by 2 = 0.0\n",
      "total nodes served by 3 = 0.0\n",
      "total nodes served by 4 = 0.0\n",
      "total nodes served by 5 = 2.0\n",
      "total nodes served by 6 = 8.0\n",
      "total nodes served by 7 = 0.0\n",
      "node_list = []\n",
      "node_list = []\n",
      "node_list = []\n",
      "node_list = []\n",
      "node_list = []\n",
      "node_list = [1, 5]\n",
      "node_list = [0, 2, 3, 4, 6, 7, 8, 9]\n",
      "node_list = []\n"
     ]
    },
    {
     "data": {
      "image/png": "[encoded data removed]",
      "text/plain": [
       "<Figure size 432x288 with 1 Axes>"
      ]
     },
     "metadata": {
      "needs_background": "light"
     },
     "output_type": "display_data"
    },
    {
     "data": {
      "image/png": "[encoded data removed]",
      "text/plain": [
       "<Figure size 432x288 with 1 Axes>"
      ]
     },
     "metadata": {},
     "output_type": "display_data"
    }
   ],
   "source": [
    "# generate a instance \n",
    "vrp_instance = VRPInstance.generate_random_xy_instance(n_nodes = 10, \n",
    "                                                       n_trucks=8, \n",
    "                                                       starting_nodes='default')\n",
    "\n",
    "plt.imshow(vrp_instance.cost_matrix, cmap=plt.cm.Blues,)\n",
    "\n",
    "#%%time\n",
    "\n",
    "x, y, u,  = find_optimal_solution(vrp_instance, objective_function='min_distance')\n",
    "vrp_instance.plot_solution(x, y, file_name = 'min_distance.png')"
   ]
  },
  {
   "cell_type": "code",
   "execution_count": 20,
   "metadata": {},
   "outputs": [
    {
     "data": {
      "text/plain": [
       "[(0, 9, 0),\n",
       " (1, 7, 1),\n",
       " (2, 4, 1),\n",
       " (3, 5, 1),\n",
       " (4, 6, 1),\n",
       " (5, 2, 1),\n",
       " (6, 1, 1),\n",
       " (7, 3, 1),\n",
       " (8, 0, 0),\n",
       " (9, 8, 0)]"
      ]
     },
     "execution_count": 20,
     "metadata": {},
     "output_type": "execute_result"
    }
   ],
   "source": [
    "[k for k in x.keys() if x[k].x==1]"
   ]
  },
  {
   "cell_type": "code",
   "execution_count": 21,
   "metadata": {},
   "outputs": [
    {
     "data": {
      "text/plain": [
       "[(0, 0),\n",
       " (1, 1),\n",
       " (2, 1),\n",
       " (3, 1),\n",
       " (4, 1),\n",
       " (5, 1),\n",
       " (6, 1),\n",
       " (7, 1),\n",
       " (8, 0),\n",
       " (9, 0)]"
      ]
     },
     "execution_count": 21,
     "metadata": {},
     "output_type": "execute_result"
    }
   ],
   "source": [
    "[k for k in y.keys() if y[k].x>0]"
   ]
  },
  {
   "cell_type": "code",
   "execution_count": null,
   "metadata": {},
   "outputs": [],
   "source": []
  },
  {
   "cell_type": "code",
   "execution_count": null,
   "metadata": {},
   "outputs": [],
   "source": []
  },
  {
   "cell_type": "code",
   "execution_count": 27,
   "metadata": {},
   "outputs": [
    {
     "name": "stdout",
     "output_type": "stream",
     "text": [
      "total nodes served by 0 = 3.0\n",
      "total nodes served by 1 = 0.0\n",
      "total nodes served by 2 = 7.0\n",
      "node_list = [0, 8, 9]\n",
      "node_list = []\n",
      "node_list = [1, 2, 3, 4, 5, 6, 7]\n",
      "CPU times: user 6.13 s, sys: 2.28 s, total: 8.41 s\n",
      "Wall time: 7.7 s\n"
     ]
    },
    {
     "data": {
      "image/png": "[encoded data removed]",
      "text/plain": [
       "<Figure size 432x288 with 1 Axes>"
      ]
     },
     "metadata": {},
     "output_type": "display_data"
    }
   ],
   "source": [
    "%%time\n",
    "\n",
    "x, y, u, z = find_optimal_solution(vrp_instance, objective_function='min_distance')\n",
    "vrp_instance.plot_solution(x, y, file_name = 'min_distance.png')"
   ]
  },
  {
   "cell_type": "code",
   "execution_count": 36,
   "metadata": {},
   "outputs": [
    {
     "name": "stdout",
     "output_type": "stream",
     "text": [
      "total nodes served by 0 = 3.0\n",
      "total nodes served by 1 = 4.0\n",
      "total nodes served by 2 = 3.0\n",
      "node_list = [0, 6, 7]\n",
      "node_list = [1, 4, 8, 9]\n",
      "node_list = [2, 3, 5]\n",
      "CPU times: user 9min 51s, sys: 5min 4s, total: 14min 55s\n",
      "Wall time: 15min\n"
     ]
    },
    {
     "data": {
      "image/png": "[encoded data removed]",
      "text/plain": [
       "<Figure size 432x288 with 1 Axes>"
      ]
     },
     "metadata": {},
     "output_type": "display_data"
    }
   ],
   "source": [
    "%%time\n",
    "\n",
    "x_lowpos, y_lowpos, u_lowpos, z_lowpos = find_optimal_solution(vrp_instance, objective_function='lowest_pos')\n",
    "vrp_instance.plot_solution(x, y, file_name = 'min_distance.png')"
   ]
  },
  {
   "cell_type": "code",
   "execution_count": 35,
   "metadata": {},
   "outputs": [
    {
     "data": {
      "text/plain": [
       "[2.0, 1.0, 6.0, 9.0, 7.0, 8.0, 5.0]"
      ]
     },
     "execution_count": 35,
     "metadata": {},
     "output_type": "execute_result"
    }
   ],
   "source": [
    "[u[key].x for key in u.keys() if key[1]==2 and y[key].x==1]"
   ]
  },
  {
   "cell_type": "code",
   "execution_count": 17,
   "metadata": {},
   "outputs": [
    {
     "data": {
      "text/plain": [
       "{(0, 0): <mip.entities.Var at 0x1236be128>,\n",
       " (0, 1): <mip.entities.Var at 0x1236be160>,\n",
       " (0, 2): <mip.entities.Var at 0x1236be198>,\n",
       " (1, 0): <mip.entities.Var at 0x1236be1d0>,\n",
       " (1, 1): <mip.entities.Var at 0x1236be208>,\n",
       " (1, 2): <mip.entities.Var at 0x1236be240>,\n",
       " (2, 0): <mip.entities.Var at 0x1236be278>,\n",
       " (2, 1): <mip.entities.Var at 0x1236be2b0>,\n",
       " (2, 2): <mip.entities.Var at 0x1236be2e8>,\n",
       " (3, 0): <mip.entities.Var at 0x1236be320>,\n",
       " (3, 1): <mip.entities.Var at 0x1236be358>,\n",
       " (3, 2): <mip.entities.Var at 0x1236be390>,\n",
       " (4, 0): <mip.entities.Var at 0x1236be3c8>,\n",
       " (4, 1): <mip.entities.Var at 0x1236be400>,\n",
       " (4, 2): <mip.entities.Var at 0x1236be438>,\n",
       " (5, 0): <mip.entities.Var at 0x1236be470>,\n",
       " (5, 1): <mip.entities.Var at 0x1236be4a8>,\n",
       " (5, 2): <mip.entities.Var at 0x1236be4e0>,\n",
       " (6, 0): <mip.entities.Var at 0x1236be518>,\n",
       " (6, 1): <mip.entities.Var at 0x1236be550>,\n",
       " (6, 2): <mip.entities.Var at 0x1236be588>,\n",
       " (7, 0): <mip.entities.Var at 0x1236be5c0>,\n",
       " (7, 1): <mip.entities.Var at 0x1236be5f8>,\n",
       " (7, 2): <mip.entities.Var at 0x1236be630>,\n",
       " (8, 0): <mip.entities.Var at 0x1236be668>,\n",
       " (8, 1): <mip.entities.Var at 0x1236be6a0>,\n",
       " (8, 2): <mip.entities.Var at 0x1236be6d8>,\n",
       " (9, 0): <mip.entities.Var at 0x1236be710>,\n",
       " (9, 1): <mip.entities.Var at 0x1236be748>,\n",
       " (9, 2): <mip.entities.Var at 0x1236be780>}"
      ]
     },
     "execution_count": 17,
     "metadata": {},
     "output_type": "execute_result"
    }
   ],
   "source": [
    "u"
   ]
  },
  {
   "cell_type": "code",
   "execution_count": null,
   "metadata": {},
   "outputs": [],
   "source": []
  },
  {
   "cell_type": "code",
   "execution_count": null,
   "metadata": {},
   "outputs": [],
   "source": []
  },
  {
   "cell_type": "code",
   "execution_count": null,
   "metadata": {},
   "outputs": [],
   "source": []
  },
  {
   "cell_type": "code",
   "execution_count": null,
   "metadata": {},
   "outputs": [],
   "source": [
    "vrp_instance.origin"
   ]
  },
  {
   "cell_type": "code",
   "execution_count": null,
   "metadata": {},
   "outputs": [],
   "source": [
    "z.keys()"
   ]
  },
  {
   "cell_type": "code",
   "execution_count": null,
   "metadata": {},
   "outputs": [],
   "source": [
    "%%time\n",
    "\n",
    "x_lp, y_lp = find_optimal_solution(vrp_instance, objective_function='lowest_pos')\n",
    "vrp_instance.plot_solution(x_lp, y_lp, file_name = 'lowest_pos.png')"
   ]
  },
  {
   "cell_type": "code",
   "execution_count": null,
   "metadata": {},
   "outputs": [],
   "source": [
    "%%time\n",
    "\n",
    "x_lp2, y_lp2 = find_optimal_solution(vrp_instance, objective_function='min_dist_max_len')\n",
    "vrp_instance.plot_solution(x_lp2, y_lp2, file_name = 'min_dist_max_len.png')"
   ]
  },
  {
   "cell_type": "code",
   "execution_count": null,
   "metadata": {},
   "outputs": [],
   "source": []
  },
  {
   "cell_type": "code",
   "execution_count": null,
   "metadata": {},
   "outputs": [],
   "source": []
  },
  {
   "cell_type": "code",
   "execution_count": null,
   "metadata": {},
   "outputs": [],
   "source": []
  },
  {
   "cell_type": "code",
   "execution_count": null,
   "metadata": {},
   "outputs": [],
   "source": []
  },
  {
   "cell_type": "code",
   "execution_count": null,
   "metadata": {},
   "outputs": [],
   "source": [
    "cost_matrix  = np.random.rand(10,10) # matriz tiempo o distancia\n",
    "cost_matrix =  cost_matrix + cost_matrix.T  - 2*np.diag(cost_matrix.diagonal())\n",
    "\n",
    "nodes = list(range(cost_matrix.shape[0]))\n",
    "trucks = list(range(3))\n",
    "\n",
    "origin = {}\n",
    "for k in trucks:\n",
    "    origin[k]=k\n",
    "\n",
    "plt.imshow(cost_matrix, cmap=plt.cm.Blues,)\n",
    "plt.title('matriz de costo')"
   ]
  },
  {
   "cell_type": "code",
   "execution_count": null,
   "metadata": {},
   "outputs": [],
   "source": [
    "cost_matrix[:4,4:] = 100\n",
    "cost_matrix[4:7,:4] = 100\n",
    "cost_matrix[4:7,7:] = 100\n",
    "cost_matrix[7:,:7] = 100\n",
    "\n",
    "\n",
    "plt.imshow(cost_matrix, cmap=plt.cm.Blues,)\n"
   ]
  },
  {
   "cell_type": "code",
   "execution_count": null,
   "metadata": {},
   "outputs": [],
   "source": [
    "k+=1\n",
    "model = mip.Model(name = f'vrp_{k}')\n",
    "\n",
    "# ========================== #\n",
    "# ==== var declaration ===== #\n",
    "# ========================== #\n",
    "x = {}\n",
    "\n",
    "for i,j,k in itertools.product(nodes,nodes,trucks):\n",
    "    # declarate path variables \n",
    "    if i != j : \n",
    "        x[(i,j,k)] = model.add_var(var_type = mip.BINARY , \n",
    "                                   name = f'path_{i}_{j}_{k}')\n",
    "y = {}    \n",
    "for i,k in itertools.product(nodes,trucks):\n",
    "    # declarate path variables \n",
    "    y[(i,k)] = model.add_var(var_type = mip.CONTINUOUS , \n",
    "                             name = f'asignation_{i}_{k}')\n",
    "\n",
    "u = {}\n",
    "for i,k in itertools.product(nodes,trucks):\n",
    "    u[(i,k)] = model.add_var(var_type = mip.INTEGER , \n",
    "                             name = f'order_{i}_{k}')"
   ]
  },
  {
   "cell_type": "code",
   "execution_count": null,
   "metadata": {},
   "outputs": [],
   "source": [
    "# ======================== #\n",
    "# ===== constraints ====== #\n",
    "# ======================== #\n",
    "\n",
    "# 1. flow conservation\n",
    "for i,k in itertools.product(nodes,trucks):\n",
    "    if i != origin[k]:\n",
    "        model.add_constr(mip.xsum([x[(j,i,k)] for j in nodes if j!=i ]) == # lo que entra\n",
    "                         mip.xsum([x[(i,j,k)] for j in nodes if j!=i ]) , # lo que sale\n",
    "                         name = f'flow_conservation_{i}_{k}' ) \n",
    "\n",
    "# 2. y codification \n",
    "for i,k in itertools.product(nodes,trucks):\n",
    "    model.add_constr(y[(i,k)] == mip.xsum([x[(j,i,k)] for j in nodes if j!=i]) , name=f'y[{i}{k}]_cod') \n",
    "\n",
    "# 3. demand fulfillment\n",
    "for i in nodes:\n",
    "    model.add_constr(mip.xsum([ y[(i,k)] for k in trucks]) == 1 , name=f'y[{i}{k}]_cod') \n",
    "\n",
    "# 4. subtour elimination \n",
    "graph_len = len(nodes)\n",
    "for k in trucks:\n",
    "    for i,j in itertools.product(nodes,nodes):\n",
    "        if i != j and (i != origin[k] and j!= origin[k]): # remove origin (?)\n",
    "            model.add_constr(u[(i,k)] - u[(j,k)] + 1  <= graph_len*(1- x[(i,j,k)]) , name=f'subtour_constraint_{i}_{j}_{k}')\n",
    "    \n",
    "    model.add_constr(u[(origin[k],k)] == 1 , name=f'subtour_constraint_origin_{k}')\n",
    "    \n",
    "    for i in nodes:\n",
    "        if i != origin[k] :\n",
    "            model.add_constr(u[(i,k)] >=2  , name=f'subtour_constraint_lowerbound_{i}')\n",
    "            model.add_constr(u[(i,k)] <= graph_len , name=f'subtour_constraint_upperbound_{i}')"
   ]
  },
  {
   "cell_type": "code",
   "execution_count": null,
   "metadata": {},
   "outputs": [],
   "source": [
    "# ============================ #\n",
    "# ==== model declaration ===== #\n",
    "# ============================ #\n",
    "\n",
    "# objective function\n",
    "model.objective = mip.xsum([x[key]*cost_matrix[key[0]][key[1]] for key in x.keys()])\n",
    "\n",
    "model.sens = mip.MINIMIZE\n",
    "model.optimize()"
   ]
  },
  {
   "cell_type": "code",
   "execution_count": null,
   "metadata": {},
   "outputs": [],
   "source": [
    "# ============================ #\n",
    "# ==== printing results  ===== #\n",
    "# ============================ #\n",
    "for key,var in x.items():\n",
    "    if var.x == 1.0:\n",
    "        print('x',key, var.x)\n",
    "\n",
    "for key,var in y.items():\n",
    "    if var.x == 1.0:\n",
    "        print('y',key, var.x)\n",
    "\n",
    "for k in trucks:\n",
    "    print('total nodes served by {0} = {1}'.format(k, sum([y[(i,k)].x for i in nodes ])))\n",
    "\n",
    "for k in trucks:\n",
    "    print('node_list = {}'.format([ i for i in nodes if y[(i,k)].x == 1]))\n",
    "\n",
    "# ====================== #\n",
    "# ==== viz results ===== #\n",
    "# ====================== #\n",
    "\n",
    "import networkx as nx\n",
    "G = nx.Graph()\n",
    "\n",
    "G.add_nodes_from(nodes)\n",
    "G.add_edges_from([(key[0], key[1]) for key in x.keys() if x[key].x == 1]) #{'weight': 3.1415}\n",
    "colors = [key[2]+2 for key in x.keys() if x[key].x == 1]\n",
    "nx.draw(G, node_color=colors, with_labels = True, cmap=plt.cm.Blues)"
   ]
  },
  {
   "cell_type": "code",
   "execution_count": null,
   "metadata": {},
   "outputs": [],
   "source": [
    "# ============================ #\n",
    "# ==== printing results  ===== #\n",
    "# ============================ #\n",
    "for key,var in x.items():\n",
    "    if var.x == 1.0:\n",
    "        print('x',key, var.x)\n",
    "\n",
    "for key,var in y.items():\n",
    "    if var.x == 1.0:\n",
    "        print('y',key, var.x)\n",
    "\n",
    "for k in trucks:\n",
    "    print('total nodes served by {0} = {1}'.format(k, sum([y[(i,k)].x for i in nodes ])))\n",
    "\n",
    "for k in trucks:\n",
    "    print('node_list = {}'.format([ i for i in nodes if y[(i,k)].x == 1]))\n",
    "\n",
    "# ====================== #\n",
    "# ==== viz results ===== #\n",
    "# ====================== #\n",
    "\n",
    "import networkx as nx\n",
    "G = nx.Graph()\n",
    "\n",
    "G.add_nodes_from(nodes)\n",
    "G.add_edges_from([(key[0], key[1]) for key in x.keys() if x[key].x == 1]) #{'weight': 3.1415}\n",
    "colors = [key[2]+2 for key in x.keys() if x[key].x == 1]\n",
    "nx.draw(G, node_color=colors, with_labels = True,)# cmap=plt.cm.Blues)"
   ]
  },
  {
   "cell_type": "code",
   "execution_count": null,
   "metadata": {},
   "outputs": [],
   "source": [
    "# ============================ #\n",
    "# ==== printing results  ===== #\n",
    "# ============================ #\n",
    "# for key,var in x.items():\n",
    "#     print('x',key, var.x)\n",
    "\n",
    "# for key,var in y.items():\n",
    "#     print('y',key, var.x)\n",
    "\n",
    "# for k in trucks:\n",
    "#     print('total nodes served by {0} = {1}'.format(k, sum([y[(i,k)].x for i in nodes ])))\n",
    "\n",
    "# for k in trucks:\n",
    "#     print('node_list = {}'.format([ i for i in nodes if y[(i,k)].x == 1]))\n",
    "\n",
    "# ====================== #\n",
    "# ==== viz results ===== #\n",
    "# ====================== #\n",
    "\n",
    "import networkx as nx\n",
    "G = nx.Graph()\n",
    "\n",
    "G.add_nodes_from(nodes)\n",
    "G.add_edges_from([(key[0], key[1]) for key in x.keys() if x[key].x == 1]) #{'weight': 3.1415}\n",
    "\n",
    "nx.draw(G, with_labels = True)"
   ]
  },
  {
   "cell_type": "code",
   "execution_count": null,
   "metadata": {},
   "outputs": [],
   "source": [
    "# ====================== #\n",
    "# ==== viz results ===== #\n",
    "# ====================== #\n",
    "\n",
    "import networkx as nx\n",
    "G = nx.Graph()\n",
    "\n",
    "G.add_nodes_from(nodes)\n",
    "G.add_edges_from([(key[0], key[1]) for key in x.keys() if x[key].x == 1]) #{'weight': 3.1415}\n",
    "\n",
    "nx.draw(G, with_labels = True)"
   ]
  },
  {
   "cell_type": "code",
   "execution_count": null,
   "metadata": {},
   "outputs": [],
   "source": [
    "# ====================== #\n",
    "# ==== viz results ===== #\n",
    "# ====================== #\n",
    "\n",
    "import networkx as nx\n",
    "G = nx.Graph()\n",
    "\n",
    "G.add_nodes_from(nodes)\n",
    "G.add_edges_from([(key[0], key[1]) for key in x.keys() if x[key].x == 1]) #{'weight': 3.1415}\n",
    "\n",
    "nx.draw(G, with_labels = True)"
   ]
  },
  {
   "cell_type": "code",
   "execution_count": null,
   "metadata": {},
   "outputs": [],
   "source": []
  },
  {
   "cell_type": "code",
   "execution_count": null,
   "metadata": {},
   "outputs": [],
   "source": []
  },
  {
   "cell_type": "code",
   "execution_count": null,
   "metadata": {},
   "outputs": [],
   "source": []
  },
  {
   "cell_type": "markdown",
   "metadata": {},
   "source": [
    "# sandbox\n"
   ]
  },
  {
   "cell_type": "code",
   "execution_count": 2,
   "metadata": {},
   "outputs": [],
   "source": [
    "class VRPInstance(object):\n",
    "    def __init__(self, nodes=[], nodes_pos = {}, trucks = [],origin = {}, cost_matrix =  None ): # TODO add miga_and_bloqued\n",
    "        \"\"\" create an empty instance\n",
    "        \"\"\"\n",
    "        self.trucks = trucks\n",
    "        self.origin = origin\n",
    "        self.cost_matrix =  cost_matrix # this could be part of the edges attributes of self.graph\n",
    "\n",
    "        # graph \n",
    "        G = nx.Graph() \n",
    "        G.add_nodes_from(nodes)\n",
    "        for node_id,pos in nodes_pos.items():\n",
    "            G.nodes[node_id]['pos'] = (pos[0],pos[1])\n",
    "\n",
    "        self.graph = G\n",
    "\n",
    "    @classmethod \n",
    "    def generate_random_xy_instance(cls, n_nodes = 15, n_trucks=2, starting_nodes='default'):\n",
    "        \"\"\"[summary]\n",
    "\n",
    "        Args:\n",
    "            n_nodes (int, optional): [description]. Defaults to 15.\n",
    "            n_trucks (int, optional): [description]. Defaults to 2.\n",
    "            starting_nodes (str, optional): [description]. Defaults to 'default'.\n",
    "\n",
    "        Returns:\n",
    "            [type]: [description]\n",
    "        \"\"\"        \n",
    "        # set seed \n",
    "        random.seed(0)             \n",
    "        nodes = list(range(n_nodes))  \n",
    "        nodes_pos = {}\n",
    "        nodes_pos_list  = []\n",
    "        for node_id in nodes:\n",
    "            x = random.uniform(0, 150)\n",
    "            y = random.uniform(0, 150)\n",
    "            nodes_pos[node_id] = (x,y) \n",
    "            nodes_pos_list.append([x,y])\n",
    "            \n",
    "        cost_matrix = distance_matrix(nodes_pos_list, nodes_pos_list)\n",
    "        \n",
    "        nodes = list(range(cost_matrix.shape[0]))\n",
    "        trucks = list(range(n_trucks))\n",
    "        if starting_nodes == 'default':\n",
    "            origin = {}\n",
    "            for k in trucks:\n",
    "                origin[k]=k\n",
    "        elif type(starting_nodes) == dict:\n",
    "            origin = deepcopy(starting_nodes)\n",
    "            \n",
    "        return cls(nodes = nodes, \n",
    "                   nodes_pos = nodes_pos, \n",
    "                   trucks = trucks,\n",
    "                   origin = origin,\n",
    "                   cost_matrix=cost_matrix)\n",
    "    @property\n",
    "    def nodes(self):\n",
    "        return list(self.graph.nodes)\n",
    "    \n",
    "    def cost(self, i,j):\n",
    "        return self.cost_matrix[i][j]\n",
    "\n",
    "    @classmethod\n",
    "    def generate_random_distance_instance(cls, n_nodes, n_trucks):\n",
    "        # TODO\n",
    "        raise NotImplementedError('builder not yet implemented')\n",
    "        #cost_matrix  = np.random.rand(45,45) # matriz tiempo o distancia\n",
    "        #cost_matrix =  cost_matrix + cost_matrix.T  - 2*np.diag(cost_matrix.diagonal())\n",
    "    \n",
    "    def plot_instance(self):\n",
    "        G = self.graph\n",
    "        pos=nx.get_node_attributes(G,'pos')\n",
    "        nx.draw(G, pos=pos, with_labels = True)\n",
    "    \n",
    "    def plot_solution(self, x, y, file_name='graph.png'):\n",
    "        \"\"\" \n",
    "        plot the solution \n",
    "\n",
    "        Args:\n",
    "            x ([dict]): dict with solution {x[(i,j,k)] : mip.Var, ... }\n",
    "        \"\"\"         \n",
    "        \n",
    "        G = deepcopy(self.graph)\n",
    "        G.add_edges_from([(key[0], key[1]) for key in x.keys() if x[key].x == 1]) \n",
    "        pos = nx.get_node_attributes(G,'pos')\n",
    "        node_color = [key[1] for key in y.keys() if y[key].x==1]\n",
    "        max_color = np.max(node_color) + 1\n",
    "        labels = {nodo:nodo for nodo in self.nodes}\n",
    "        origen = self.origin\n",
    "        for k in origen.keys():\n",
    "            labels[origen[k]] = str(labels[origen[k]])+'*'\n",
    "        # save plot \n",
    "        f = plt.figure()\n",
    "        nx.draw(G, pos=pos, labels=labels,\n",
    "                node_color = node_color, cmap=plt.cm.spring,\n",
    "                with_labels = True, ax=f.add_subplot(111))\n",
    "        f.savefig(file_name, dpi = 250)"
   ]
  }
 ],
 "metadata": {
  "kernelspec": {
   "display_name": "Python [conda env:spike_basicoV6] *",
   "language": "python",
   "name": "conda-env-spike_basicoV6-py"
  },
  "language_info": {
   "codemirror_mode": {
    "name": "ipython",
    "version": 3
   },
   "file_extension": ".py",
   "mimetype": "text/x-python",
   "name": "python",
   "nbconvert_exporter": "python",
   "pygments_lexer": "ipython3",
   "version": "3.6.10"
  }
 },
 "nbformat": 4,
 "nbformat_minor": 4
}
